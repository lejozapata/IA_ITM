{
 "cells": [
  {
   "cell_type": "markdown",
   "metadata": {},
   "source": [
    " <img src=\"res/itm_logo.jpg\" width=\"300px\">\n",
    "\n",
    "## Inteligencia Artificial - IAI84\n",
    "### Instituto Tecnológico Metropolitano\n",
    "#### Pedro Atencio Ortiz - 2018"
   ]
  },
  {
   "cell_type": "markdown",
   "metadata": {},
   "source": [
    "<hr>\n",
    "## Trabajo No. 1: Taller sobre solución de problemas y búsqueda\n",
    "### Condiciones:\n",
    "- **Integrantes**: 2 personas máximo.\n",
    "- **Forma de entrega**: via correo electrónico a pedroatencio@itm.edu.co\n",
    "- **Formato de entrega**: jupyter notebook.\n",
    "- **Fecsha de entrega**: Martes 20 de Febrero hasta las 00:00"
   ]
  },
  {
   "cell_type": "markdown",
   "metadata": {},
   "source": [
    "<hr>\n",
    "## Formular\n",
    "Recordar que formular un problema consiste en:\n",
    "- **Definir el estado inicial**: A nivel conceptual y a nivel de estructura de datos. Por ejemplo, para el caso del mapa de rumania (ver material de clase), a nivel conceptual el estado inicial es \"Arad\". A nivel de estructura de datos, cada ciudad se representa como un punto en un plano cartesiano, por ello Arad podría ser el vector [0, 0].\n",
    "- **Definir la función de secuencia o sucesión**: A nivel conceptual y un pseudocódigo (muy general) que ilustre como opera dicha función.\n",
    "- **Objetivo**: Definir el estado objetivo y su tipo (explícito o ímplicito).\n",
    "- **Costo de ruta**: Una posible métrica que puede ser utilizada posteriormente para determinar la calidad de una solución.\n",
    "\n",
    "Utilizando la definición anterior, FORMULAR los siguientes problemas:"
   ]
  },
  {
   "cell_type": "markdown",
   "metadata": {
    "collapsed": true
   },
   "source": [
    "### Problema 1:\n",
    "\n",
    "<a href=\"https://es.wikipedia.org/wiki/Donald_Knuth\">Donald Knuth</a> propuso una <a href=\"http://www.perlmonks.org/?node_id=443037\">conjetura</a> la cuál propone que, comenzando con el número 4, una secuencia de factoriales, raíces cuadradas y operador piso, pueden alcanzar cualquier número entero positivo deseado. Por ejemplo:\n",
    "\n",
    "<center>$a = \\left \\lfloor \\sqrt{\\sqrt{\\sqrt{\\sqrt{\\sqrt{(4!)!}}}}} \\right \\rfloor$ = 5</center>\n",
    "<center>$b = \\left \\lfloor \\sqrt{\\sqrt{\\sqrt{10!}}} \\right \\rfloor$ = 6</center>\n",
    "\n",
    "Formule dicha conjetura como un problema de búsqueda en el cual se desea encontrar la secuencua de factoriales, raíces cuadradas y operador piso, tal que genere un número entero positivo deseado."
   ]
  },
  {
   "cell_type": "code",
   "execution_count": 1,
   "metadata": {},
   "outputs": [
    {
     "name": "stdout",
     "output_type": "stream",
     "text": [
      "5.0\n",
      "6.0\n"
     ]
    }
   ],
   "source": [
    "from math import factorial, floor, sqrt\n",
    "\n",
    "a = floor(sqrt(sqrt(sqrt(sqrt(sqrt(factorial(factorial(4))))))))\n",
    "print(a)\n",
    "\n",
    "b = floor(sqrt(sqrt(sqrt(factorial(10)))))\n",
    "print(b)"
   ]
  },
  {
   "cell_type": "markdown",
   "metadata": {},
   "source": [
    "### Problema 2:\n",
    "<a href=\"https://en.wikipedia.org/wiki/Missionaries_and_cannibals_problem\">Misioneros y canibales</a> es un problema o juego (toy problem), comunmente utilizado para estudiar representación de problemas. El juego consiste en cruzar tres canibales y tres misioneros que inicialmente están de un lado del río, al otro lado, utilizando una balsa la cúal puede llevar solo dos personas: {(misionero - misionero), (canibal - canibal), (misionero - canibal)}. La restricción del juego consiste en que nunca en ningun lado del río, el número de canibales puede exceder el de número de misioneros.\n",
    "\n",
    "<center><img src=\"res/misioneros_canibales_2.png\" width=\"500\"></center>\n",
    "<center>Tomado de http://www.aiai.ed.ac.uk/~gwickler/missionaries.html.</center>\n",
    "\n",
    "Formule dicho problema, utilizando los elementos definidos para ello."
   ]
  },
  {
   "cell_type": "markdown",
   "metadata": {},
   "source": [
    "<hr>\n",
    "## Analizar y discutir"
   ]
  },
  {
   "cell_type": "markdown",
   "metadata": {},
   "source": [
    "En el siguiente enlace (<a href=\"http://www.valvesoftware.com/publications/2009/ai_systems_of_l4d_mike_booth.pdf\">link</a>), se encuentra una presentación de Valve Software, sobre el motor de inteligencia artificial que utilizaron para darle vida los zombis del juego <a href=\"https://es.wikipedia.org/wiki/Left_4_Dead\">left 4 dead</a>. En las diapositivas 12 y 13 del archivo anterior, se puede observar un esquema gráfico del funcionamiento del movimiento de los zombis dados un punto de inicio y un punto de destino, dentro de un mapa.\n",
    "\n",
    "Analice y discuta al respecto de como se podría formular este problema e implementar en otras aplicaciones, por ejemplo, para guiar visitantes dentro de un museo o indicar a un visitante en un centro comercial como llegar a la tienda que desea."
   ]
  },
  {
   "cell_type": "code",
   "execution_count": null,
   "metadata": {
    "collapsed": true
   },
   "outputs": [],
   "source": []
  }
 ],
 "metadata": {
  "kernelspec": {
   "display_name": "Python 2",
   "language": "python",
   "name": "python2"
  },
  "language_info": {
   "codemirror_mode": {
    "name": "ipython",
    "version": 2
   },
   "file_extension": ".py",
   "mimetype": "text/x-python",
   "name": "python",
   "nbconvert_exporter": "python",
   "pygments_lexer": "ipython2",
   "version": "2.7.13"
  }
 },
 "nbformat": 4,
 "nbformat_minor": 2
}
